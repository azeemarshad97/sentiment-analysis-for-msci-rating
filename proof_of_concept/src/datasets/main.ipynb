{
 "cells": [
  {
   "cell_type": "code",
   "execution_count": null,
   "metadata": {},
   "outputs": [],
   "source": [
    "# Use a pipeline as a high-level helper\n",
    "from transformers import pipeline\n",
    "\n",
    "pipe = pipeline(\"summarization\", model=\"google/bigbird-pegasus-large-arxiv\")\n",
    "\n",
    "res = pipe(text)\n",
    "res[0]['summary_text']\n",
    "url = \"https://www.theguardian.com/environment/2018/oct/08/climate-change-what-you-can-do-campaigning-installing-insulation-solar-panels\"\n",
    "text = get_text(url)\n",
    "res = pipe(text)[0]['summary_text']"
   ]
  },
  {
   "cell_type": "code",
   "execution_count": 33,
   "metadata": {},
   "outputs": [
    {
     "data": {
      "text/plain": [
       "(103, True)"
      ]
     },
     "execution_count": 33,
     "metadata": {},
     "output_type": "execute_result"
    }
   ],
   "source": [
    "text2 = get_text(\"https://www.theguardian.com/world/2023/oct/14/malta-killing-of-journalist-daphne-caruana-galizia-her-son-paul-looks-back\")\n",
    "summary = \"This narrative recounts a personal and tragic experience of the assassination of the narrator's mother, Maltese journalist Daphne Caruana Galizia. The story begins with the narrator, Paul, receiving a call from his brother Matthew about their mother's death in a car bomb attack, a consequence of her investigative work on government corruption in Malta. The aftermath includes the family's struggle with grief and legal processes, while facing the harsh realities of their mother's targeted killing for her journalism. The narrative also reflects on Daphne's life, her impact as a journalist, and the profound effect her assassination had on her family and Maltese society.\"\n",
    "is_text_within_limit(summary)"
   ]
  }
 ],
 "metadata": {
  "kernelspec": {
   "display_name": "env",
   "language": "python",
   "name": "python3"
  },
  "language_info": {
   "codemirror_mode": {
    "name": "ipython",
    "version": 3
   },
   "file_extension": ".py",
   "mimetype": "text/x-python",
   "name": "python",
   "nbconvert_exporter": "python",
   "pygments_lexer": "ipython3",
   "version": "3.11.2"
  }
 },
 "nbformat": 4,
 "nbformat_minor": 2
}
