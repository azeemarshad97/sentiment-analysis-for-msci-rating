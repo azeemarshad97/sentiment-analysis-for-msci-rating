{
 "cells": [
  {
   "cell_type": "code",
   "execution_count": 1,
   "metadata": {},
   "outputs": [],
   "source": [
    "from pprint import pprint\n",
    "import functools\n",
    "\n",
    "import pandas as pd\n",
    "import torch\n",
    "from torch.utils.data import DataLoader\n",
    "from datasets import Dataset\n",
    "import torch.nn.functional as F\n",
    "import pytorch_lightning as pl\n",
    "from transformers import AutoModelForSequenceClassification, CamembertForMaskedLM, AutoTokenizer, AutoConfig\n",
    "from datasets import load_dataset\n",
    "from sklearn.metrics import confusion_matrix, f1_score\n",
    "\n",
    "import matplotlib.pyplot as plt\n",
    "from tqdm.notebook import tqdm"
   ]
  },
  {
   "cell_type": "code",
   "execution_count": 2,
   "metadata": {},
   "outputs": [
    {
     "data": {
      "text/plain": [
       "CamembertEmbeddings(\n",
       "  (word_embeddings): Embedding(32005, 768, padding_idx=1)\n",
       "  (position_embeddings): Embedding(514, 768, padding_idx=1)\n",
       "  (token_type_embeddings): Embedding(1, 768)\n",
       "  (LayerNorm): LayerNorm((768,), eps=1e-05, elementwise_affine=True)\n",
       "  (dropout): Dropout(p=0.1, inplace=False)\n",
       ")"
      ]
     },
     "execution_count": 2,
     "metadata": {},
     "output_type": "execute_result"
    }
   ],
   "source": [
    "camembert = CamembertForMaskedLM.from_pretrained('camembert-base')\n",
    "camembert.roberta.embeddings"
   ]
  },
  {
   "cell_type": "markdown",
   "metadata": {},
   "source": [
    "## data processing"
   ]
  },
  {
   "cell_type": "code",
   "execution_count": 3,
   "metadata": {},
   "outputs": [],
   "source": [
    "import string\n",
    "from spacy.lang.fr.stop_words import STOP_WORDS as fr_stop\n",
    "\n",
    "def cleanse_french_text(text):\n",
    "    # Convert to lowercase\n",
    "    text = text.lower()\n",
    "\n",
    "    # Remove punctuation\n",
    "    # text = text.translate(str.maketrans('', '', string.punctuation))\n",
    "\n",
    "    # Remove stopwords\n",
    "    words = text.split()\n",
    "    cleaned_words = [word for word in words if word not in fr_stop]\n",
    "    cleaned_text = ' '.join(cleaned_words)\n",
    "\n",
    "    return cleaned_text\n"
   ]
  },
  {
   "cell_type": "code",
   "execution_count": 4,
   "metadata": {},
   "outputs": [
    {
     "name": "stdout",
     "output_type": "stream",
     "text": [
      "                                                text     esg_category\n",
      "0  Le président iranien utilise le discours de l'...          non-esg\n",
      "1  Le changement climatique menace une orchidée b...  environnemental\n",
      "2  Le Premier ministre néo-zélandais @jacindaarde...  environnemental\n",
      "3  La France veut interdire la discrimination con...           social\n",
      "4  Labor pour rejoindre les Verts pour s'opposer ...  environnemental\n"
     ]
    }
   ],
   "source": [
    "df = pd.read_csv('../data/esg_fr_classification.csv', encoding='utf-8', sep=',')\n",
    "df = df.sample(frac=0.1, random_state=42).reset_index(drop=True)\n",
    "\n",
    "# rename text_fr column to text and esg_category to label\n",
    "df = df.rename(columns={'text_fr': 'text'})\n",
    "print(df.head())\n",
    "\n",
    "# add label column that ids the esg_category\n",
    "df['label'] = df['esg_category'].factorize()[0] \n",
    "\n",
    "df['esg_category'].value_counts()\n",
    "\n",
    "df['text'] = df['text'].apply(cleanse_french_text)"
   ]
  },
  {
   "cell_type": "code",
   "execution_count": 5,
   "metadata": {},
   "outputs": [
    {
     "name": "stdout",
     "output_type": "stream",
     "text": [
      "train size: (33, 3) \t test size: (833, 3) \t validation size: (833, 3)\n"
     ]
    }
   ],
   "source": [
    "from sklearn.model_selection import train_test_split\n",
    "\n",
    "train_size = 0.02\n",
    "test_size = 0.01\n",
    "validation_size = 0.01\n",
    "\n",
    "# train, test and validation split\n",
    "df_train, df_temp = train_test_split(df, train_size=train_size, stratify=df.label, random_state=42)\n",
    "df_val, df_test = train_test_split(df_temp, test_size=0.5, stratify=df_temp.label, random_state=42)\n",
    "\n",
    "print(f\"train size: {df_train.shape} \\t test size: {df_test.shape} \\t validation size: {df_val.shape}\")"
   ]
  },
  {
   "cell_type": "code",
   "execution_count": 6,
   "metadata": {},
   "outputs": [
    {
     "name": "stderr",
     "output_type": "stream",
     "text": [
      "C:\\Users\\azeem\\AppData\\Local\\Temp\\ipykernel_4116\\2982791418.py:6: UserWarning: FigureCanvasAgg is non-interactive, and thus cannot be shown\n",
      "  ax.figure.show()\n"
     ]
    },
    {
     "data": {
      "text/plain": [
       "count     33.000000\n",
       "mean      79.969697\n",
       "std       15.086179\n",
       "min       53.000000\n",
       "25%       69.000000\n",
       "50%       78.000000\n",
       "75%       89.000000\n",
       "max      116.000000\n",
       "Name: len, dtype: float64"
      ]
     },
     "execution_count": 6,
     "metadata": {},
     "output_type": "execute_result"
    },
    {
     "data": {
      "image/png": "[encoded data removed]",
      "text/plain": [
       "<Figure size 640x480 with 1 Axes>"
      ]
     },
     "metadata": {},
     "output_type": "display_data"
    }
   ],
   "source": [
    "df_train[\"len\"] = df_train[\"text\"].apply(lambda x: len(x.split()))\n",
    "ax = df_train[\"len\"].hist(density=True, bins=50)\n",
    "ax.set_xlabel(\"Longueur\")\n",
    "ax.set_ylabel(\"Fréquence\")\n",
    "ax.set_title(\"Nombre de caractères par phrase\")\n",
    "ax.figure.show()\n",
    "\n",
    "df_train[\"len\"].describe()"
   ]
  },
  {
   "cell_type": "markdown",
   "metadata": {},
   "source": [
    "### tokenization"
   ]
  },
  {
   "cell_type": "code",
   "execution_count": 7,
   "metadata": {},
   "outputs": [],
   "source": [
    "def tokenize_batch(samples, tokenizer):\n",
    "    text = [sample[\"text\"] for sample in samples]\n",
    "    labels = torch.tensor([sample[\"label\"] for sample in samples])\n",
    "    str_labels = [sample[\"esg_category\"] for sample in samples]\n",
    "    # The tokenizer handles\n",
    "    # - Tokenization (amazing right?)\n",
    "    # - Padding (adding empty tokens so that each example has the same length)\n",
    "    # - Truncation (cutting samples that are too long)\n",
    "    # - Special tokens (in CamemBERT, each sentence ends with a special token </s>)\n",
    "    # - Attention mask (a binary vector which tells the model which tokens to look at. For instance it will not compute anything if the token is a padding token)\n",
    "    tokens = tokenizer(text, padding=\"longest\", return_tensors=\"pt\", truncation=True)\n",
    "\n",
    "    return {\"input_ids\": tokens.input_ids, \"attention_mask\": tokens.attention_mask, \"labels\": labels, \"str_labels\": str_labels, \"sentences\": text}"
   ]
  },
  {
   "cell_type": "code",
   "execution_count": 8,
   "metadata": {},
   "outputs": [],
   "source": [
    "tokenizer = AutoTokenizer.from_pretrained('camembert-base')"
   ]
  },
  {
   "cell_type": "code",
   "execution_count": 9,
   "metadata": {},
   "outputs": [
    {
     "name": "stderr",
     "output_type": "stream",
     "text": [
      "C:\\Users\\azeem\\AppData\\Local\\Temp\\ipykernel_4116\\1012699315.py:27: UserWarning: FigureCanvasAgg is non-interactive, and thus cannot be shown\n",
      "  ax.figure.show()\n"
     ]
    },
    {
     "data": {
      "image/png": "[encoded data removed]",
      "text/plain": [
       "<Figure size 640x480 with 1 Axes>"
      ]
     },
     "metadata": {},
     "output_type": "display_data"
    }
   ],
   "source": [
    "# take the top 3 longest sentences in terms of charcters from the training set take their text from text column and tokenize them\n",
    "# batch_sentences = df_train.sort_values(by=\"len\", ascending=False).head(3)[\"text\"].tolist()\n",
    "# tokenizer_output = tokenizer(batch_sentences, padding=\"longest\", return_tensors=\"pt\",)\n",
    "# tokenizer_output\n",
    "\n",
    "def check_tokenized_lengths(sentences,tokenizer, model_name='camembert-base'):\n",
    "    \"\"\"\n",
    "    Function to check the lengths of sentences after tokenization.\n",
    "\n",
    "    Parameters:\n",
    "    sentences (list of str): A list of sentences to be tokenized.\n",
    "    model_name (str): The model name to load the appropriate tokenizer.\n",
    "\n",
    "    Returns:\n",
    "    dict: A dictionary with original sentences as keys and their tokenized lengths as values.\n",
    "    \"\"\"\n",
    "    lengths = {}\n",
    "\n",
    "    for sentence in sentences:\n",
    "        tokens = tokenizer.encode(sentence, add_special_tokens=True,truncation=True, return_tensors=\"pt\")\n",
    "        lengths[sentence] = len(tokens)\n",
    "\n",
    "    return lengths\n",
    "\n",
    "df_train[\"len_tokens\"] = df_train[\"text\"].apply(lambda x: len(tokenizer.encode(x, add_special_tokens=True)))\n",
    "ax = df_train[\"len_tokens\"].hist(density=True, bins=50)\n",
    "ax.figure.show()"
   ]
  },
  {
   "cell_type": "code",
   "execution_count": 10,
   "metadata": {},
   "outputs": [],
   "source": [
    "# Convert df to Hugging Face Datasets\n",
    "train_dataset = Dataset.from_pandas(df_train)\n",
    "test_dataset = Dataset.from_pandas(df_test)\n",
    "val_dataset = Dataset.from_pandas(df_val)\n"
   ]
  },
  {
   "cell_type": "markdown",
   "metadata": {},
   "source": [
    "## Finetuning"
   ]
  },
  {
   "cell_type": "code",
   "execution_count": 11,
   "metadata": {},
   "outputs": [
    {
     "name": "stdout",
     "output_type": "stream",
     "text": [
      "tensor([[    5,   918,   616,   215,  9652,  4003,  3653,    18,    11,  6693,\n",
      "            10, 17220,  5477,   108,    88, 30501,  7311,   204,    92,    21,\n",
      "           816, 10004,  4230,   286,     7,   668, 12621,   616,   215,  9652,\n",
      "           871,     7,  1808,  2110, 16766, 13990,   537, 16766, 13990,     7,\n",
      "           783,  6758,  1751,  5662,  5380,  4547,  1614,   819,    18,    55,\n",
      "         13700,  5477,   108,    88,     7,    21,  2838,     9,  1402, 16766,\n",
      "         13990,   537, 16766, 13990,   993,  6093,  4777,   633, 15290,   350,\n",
      "          5268,     9,    49,    11,   105,   771, 15922,    18,    11,  3829,\n",
      "            10,   425,  4467,  6860,  6997,    10,  4230,   286,     7, 16766,\n",
      "         13990,   537, 16766, 13990,    17,    11,    59,   783,     7,   254,\n",
      "          2796,  2724,  4230,   286,  7152,  4817,   426, 30501, 16395,   843,\n",
      "          3936,    10,    10,  5926,   906,   273,    35,  1022,     9,    17,\n",
      "            11,  4355,  5533, 25533,  3206,   893, 16766, 13990,   537, 16766,\n",
      "         13990,  8435,  5131,  5753,     9,  6345,     7,  3936,    10,    10,\n",
      "          5926,   906,   273,    35,  1022,    49,    11,    55,  4263,  3984,\n",
      "            17,    11,   797,     7,  3503,  2267,  1892,  3804,    18,    11,\n",
      "          7971,    10, 10084, 17842,     9,     6],\n",
      "        [    5, 10220,  2242,  1885,  8178,    92,  1482,   297, 11257,  4412,\n",
      "           101,  2525, 10220,  2242,    67, 10927,    10, 15345,    31,     7,\n",
      "            17,    11,   761,  1049, 24330,    10,     7,  6436,  9085, 18561,\n",
      "            10,     7,  8120,  1885,  1320,     9,  6358,    10,  6634,     7,\n",
      "         10220,  2242,  3890,   113,   699,  7339,    10, 24451,    10,    67,\n",
      "         10795,   110,  7956,   131,  1667,   362,  1315,  1772,  2105,    18,\n",
      "            11, 10188, 30501,   717,  2963,     9,  2221,  3031,     7, 10220,\n",
      "          2242,  2482,  1801, 16828,    10,  5996,    10,    18,    11,   974,\n",
      "          9170, 17485,    17,    11,   797, 12796,   814,     9,   203, 12962,\n",
      "             7,  1642,  3611,  5051,  3984,  7124,  1333,  2917,    72,    10,\n",
      "           387,  6772,    10,     9,  9615,   918,   666,  8120,    17,    11,\n",
      "           797,    17,    11,   761,    18,    11,    59, 10927,   387,  6772,\n",
      "            10,   941,     7,  1482,   297, 11257,     9,     6,     1,     1,\n",
      "             1,     1,     1,     1,     1,     1,     1,     1,     1,     1,\n",
      "             1,     1,     1,     1,     1,     1,     1,     1,     1,     1,\n",
      "             1,     1,     1,     1,     1,     1,     1,     1,     1,     1,\n",
      "             1,     1,     1,     1,     1,     1]])\n",
      "tensor([[1, 1, 1, 1, 1, 1, 1, 1, 1, 1, 1, 1, 1, 1, 1, 1, 1, 1, 1, 1, 1, 1, 1, 1,\n",
      "         1, 1, 1, 1, 1, 1, 1, 1, 1, 1, 1, 1, 1, 1, 1, 1, 1, 1, 1, 1, 1, 1, 1, 1,\n",
      "         1, 1, 1, 1, 1, 1, 1, 1, 1, 1, 1, 1, 1, 1, 1, 1, 1, 1, 1, 1, 1, 1, 1, 1,\n",
      "         1, 1, 1, 1, 1, 1, 1, 1, 1, 1, 1, 1, 1, 1, 1, 1, 1, 1, 1, 1, 1, 1, 1, 1,\n",
      "         1, 1, 1, 1, 1, 1, 1, 1, 1, 1, 1, 1, 1, 1, 1, 1, 1, 1, 1, 1, 1, 1, 1, 1,\n",
      "         1, 1, 1, 1, 1, 1, 1, 1, 1, 1, 1, 1, 1, 1, 1, 1, 1, 1, 1, 1, 1, 1, 1, 1,\n",
      "         1, 1, 1, 1, 1, 1, 1, 1, 1, 1, 1, 1, 1, 1, 1, 1, 1, 1, 1, 1, 1, 1],\n",
      "        [1, 1, 1, 1, 1, 1, 1, 1, 1, 1, 1, 1, 1, 1, 1, 1, 1, 1, 1, 1, 1, 1, 1, 1,\n",
      "         1, 1, 1, 1, 1, 1, 1, 1, 1, 1, 1, 1, 1, 1, 1, 1, 1, 1, 1, 1, 1, 1, 1, 1,\n",
      "         1, 1, 1, 1, 1, 1, 1, 1, 1, 1, 1, 1, 1, 1, 1, 1, 1, 1, 1, 1, 1, 1, 1, 1,\n",
      "         1, 1, 1, 1, 1, 1, 1, 1, 1, 1, 1, 1, 1, 1, 1, 1, 1, 1, 1, 1, 1, 1, 1, 1,\n",
      "         1, 1, 1, 1, 1, 1, 1, 1, 1, 1, 1, 1, 1, 1, 1, 1, 1, 1, 1, 1, 1, 1, 1, 1,\n",
      "         1, 1, 1, 1, 1, 1, 1, 1, 0, 0, 0, 0, 0, 0, 0, 0, 0, 0, 0, 0, 0, 0, 0, 0,\n",
      "         0, 0, 0, 0, 0, 0, 0, 0, 0, 0, 0, 0, 0, 0, 0, 0, 0, 0, 0, 0, 0, 0]])\n",
      "tensor([3, 3])\n"
     ]
    }
   ],
   "source": [
    "num_labels = len(df_train[\"label\"].unique())\n",
    "train_dataloader = DataLoader(\n",
    "    train_dataset, \n",
    "    batch_size=2, \n",
    "    shuffle=True, \n",
    "    collate_fn=functools.partial(tokenize_batch, tokenizer=tokenizer),\n",
    ")\n",
    "val_dataloader = DataLoader(\n",
    "    val_dataset, \n",
    "    batch_size=2, \n",
    "    shuffle=False, \n",
    "    collate_fn=functools.partial(tokenize_batch, tokenizer=tokenizer),\n",
    ")\n",
    "print(next(iter(val_dataloader))['input_ids'])\n",
    "print(next(iter(val_dataloader))['attention_mask'])\n",
    "print(next(iter(val_dataloader))['labels'])"
   ]
  },
  {
   "cell_type": "code",
   "execution_count": 12,
   "metadata": {},
   "outputs": [],
   "source": [
    "class LightningModel(pl.LightningModule):\n",
    "    def __init__(self, model_name, num_labels, lr, weight_decay, from_scratch=False):\n",
    "        super().__init__()\n",
    "        self.save_hyperparameters()\n",
    "        if from_scratch:\n",
    "            # Si `from_scratch` est vrai, on charge uniquement la config (nombre de couches, hidden size, etc.) et pas les poids du modèle \n",
    "            config = AutoConfig.from_pretrained(\n",
    "                model_name, num_labels=num_labels\n",
    "            )\n",
    "            self.model = AutoModelForSequenceClassification.from_config(config)\n",
    "        else:\n",
    "            # Cette méthode permet de télécharger le bon modèle pré-entraîné directement depuis le Hub de HuggingFace sur lequel sont stockés de nombreux modèles\n",
    "            self.model = AutoModelForSequenceClassification.from_pretrained(\n",
    "                model_name, num_labels=num_labels\n",
    "            )\n",
    "        self.lr = lr\n",
    "        self.weight_decay = weight_decay\n",
    "        self.num_labels = self.model.num_labels\n",
    "\n",
    "    def forward(self, batch):\n",
    "        return self.model(\n",
    "            input_ids=batch[\"input_ids\"],\n",
    "            attention_mask=batch[\"attention_mask\"]\n",
    "        )\n",
    "\n",
    "    def training_step(self, batch):\n",
    "        out = self.forward(batch)\n",
    "\n",
    "        logits = out.logits\n",
    "        # -------- MASKED --------\n",
    "        loss_fn = torch.nn.CrossEntropyLoss()\n",
    "        loss = loss_fn(logits.view(-1, self.num_labels), batch[\"labels\"].view(-1))\n",
    "\n",
    "        # ------ END MASKED ------\n",
    "\n",
    "        self.log(\"train/loss\", loss)\n",
    "\n",
    "        return loss\n",
    "\n",
    "    def validation_step(self, batch, batch_index):\n",
    "        labels = batch[\"labels\"]\n",
    "        out = self.forward(batch)\n",
    "\n",
    "        preds = torch.max(out.logits, -1).indices\n",
    "        # -------- MASKED --------\n",
    "        acc = (batch[\"labels\"] == preds).float().mean()\n",
    "        # ------ END MASKED ------\n",
    "        self.log(\"valid/acc\", acc)\n",
    "\n",
    "        f1 = f1_score(batch[\"labels\"].cpu().tolist(), preds.cpu().tolist(), average=\"macro\")\n",
    "        self.log(\"valid/f1\", f1)\n",
    "\n",
    "    def predict_step(self, batch, batch_idx):\n",
    "        \"\"\"La fonction predict step facilite la prédiction de données. Elle est \n",
    "        similaire à `validation_step`, sans le calcul des métriques.\n",
    "        \"\"\"\n",
    "        out = self.forward(batch)\n",
    "\n",
    "        return torch.max(out.logits, -1).indices\n",
    "\n",
    "    def configure_optimizers(self):\n",
    "        return torch.optim.AdamW(\n",
    "            self.model.parameters(), lr=self.lr, weight_decay=self.weight_decay\n",
    "        )"
   ]
  },
  {
   "cell_type": "code",
   "execution_count": 13,
   "metadata": {},
   "outputs": [
    {
     "name": "stderr",
     "output_type": "stream",
     "text": [
      "Some weights of the model checkpoint at camembert-base were not used when initializing CamembertForSequenceClassification: ['roberta.pooler.dense.weight', 'roberta.pooler.dense.bias', 'lm_head.dense.weight', 'lm_head.bias', 'lm_head.layer_norm.bias', 'lm_head.dense.bias', 'lm_head.layer_norm.weight']\n",
      "- This IS expected if you are initializing CamembertForSequenceClassification from the checkpoint of a model trained on another task or with another architecture (e.g. initializing a BertForSequenceClassification model from a BertForPreTraining model).\n",
      "- This IS NOT expected if you are initializing CamembertForSequenceClassification from the checkpoint of a model that you expect to be exactly identical (initializing a BertForSequenceClassification model from a BertForSequenceClassification model).\n",
      "Some weights of CamembertForSequenceClassification were not initialized from the model checkpoint at camembert-base and are newly initialized: ['classifier.dense.weight', 'classifier.out_proj.weight', 'classifier.out_proj.bias', 'classifier.dense.bias']\n",
      "You should probably TRAIN this model on a down-stream task to be able to use it for predictions and inference.\n"
     ]
    }
   ],
   "source": [
    "lightning_model = LightningModel(\"camembert-base\", num_labels, lr=3e-5, weight_decay=0.)"
   ]
  },
  {
   "cell_type": "code",
   "execution_count": 14,
   "metadata": {},
   "outputs": [
    {
     "name": "stderr",
     "output_type": "stream",
     "text": [
      "GPU available: False, used: False\n",
      "TPU available: False, using: 0 TPU cores\n",
      "IPU available: False, using: 0 IPUs\n",
      "HPU available: False, using: 0 HPUs\n"
     ]
    }
   ],
   "source": [
    "model_checkpoint = pl.callbacks.ModelCheckpoint(monitor=\"valid/acc\", mode=\"max\")\n",
    "\n",
    "camembert_trainer = pl.Trainer(\n",
    "    max_epochs=1,\n",
    "    accelerator=\"cpu\",\n",
    "    callbacks=[\n",
    "        pl.callbacks.EarlyStopping(monitor=\"valid/acc\", patience=4, mode=\"max\"),\n",
    "        model_checkpoint,\n",
    "    ]\n",
    ")"
   ]
  },
  {
   "cell_type": "code",
   "execution_count": 15,
   "metadata": {},
   "outputs": [
    {
     "name": "stderr",
     "output_type": "stream",
     "text": [
      "\n",
      "  | Name  | Type                               | Params\n",
      "-------------------------------------------------------------\n",
      "0 | model | CamembertForSequenceClassification | 110 M \n",
      "-------------------------------------------------------------\n",
      "110 M     Trainable params\n",
      "0         Non-trainable params\n",
      "110 M     Total params\n",
      "442.500   Total estimated model params size (MB)\n"
     ]
    },
    {
     "data": {
      "application/vnd.jupyter.widget-view+json": {
       "model_id": "726dbb98c09f42bb90e91f72e4f4c606",
       "version_major": 2,
       "version_minor": 0
      },
      "text/plain": [
       "Sanity Checking: |          | 0/? [00:00<?, ?it/s]"
      ]
     },
     "metadata": {},
     "output_type": "display_data"
    },
    {
     "name": "stderr",
     "output_type": "stream",
     "text": [
      "d:\\azeem\\Documents\\UNIGE\\MSc CS\\sentiment-analysis-for-msci-rating\\env\\Lib\\site-packages\\pytorch_lightning\\trainer\\connectors\\data_connector.py:441: The 'val_dataloader' does not have many workers which may be a bottleneck. Consider increasing the value of the `num_workers` argument` to `num_workers=7` in the `DataLoader` to improve performance.\n",
      "d:\\azeem\\Documents\\UNIGE\\MSc CS\\sentiment-analysis-for-msci-rating\\env\\Lib\\site-packages\\pytorch_lightning\\utilities\\data.py:77: Trying to infer the `batch_size` from an ambiguous collection. The batch size we found is 2. To avoid any miscalculations, use `self.log(..., batch_size=batch_size)`.\n",
      "d:\\azeem\\Documents\\UNIGE\\MSc CS\\sentiment-analysis-for-msci-rating\\env\\Lib\\site-packages\\pytorch_lightning\\trainer\\connectors\\data_connector.py:441: The 'train_dataloader' does not have many workers which may be a bottleneck. Consider increasing the value of the `num_workers` argument` to `num_workers=7` in the `DataLoader` to improve performance.\n",
      "d:\\azeem\\Documents\\UNIGE\\MSc CS\\sentiment-analysis-for-msci-rating\\env\\Lib\\site-packages\\pytorch_lightning\\loops\\fit_loop.py:293: The number of training batches (17) is smaller than the logging interval Trainer(log_every_n_steps=50). Set a lower value for log_every_n_steps if you want to see logs for the training epoch.\n"
     ]
    },
    {
     "data": {
      "application/vnd.jupyter.widget-view+json": {
       "model_id": "664511cb249a4545b059518edb00198c",
       "version_major": 2,
       "version_minor": 0
      },
      "text/plain": [
       "Training: |          | 0/? [00:00<?, ?it/s]"
      ]
     },
     "metadata": {},
     "output_type": "display_data"
    },
    {
     "data": {
      "application/vnd.jupyter.widget-view+json": {
       "model_id": "84c7f8238c214190b93c2d35e14cabb6",
       "version_major": 2,
       "version_minor": 0
      },
      "text/plain": [
       "Validation: |          | 0/? [00:00<?, ?it/s]"
      ]
     },
     "metadata": {},
     "output_type": "display_data"
    },
    {
     "name": "stderr",
     "output_type": "stream",
     "text": [
      "d:\\azeem\\Documents\\UNIGE\\MSc CS\\sentiment-analysis-for-msci-rating\\env\\Lib\\site-packages\\pytorch_lightning\\utilities\\data.py:77: Trying to infer the `batch_size` from an ambiguous collection. The batch size we found is 1. To avoid any miscalculations, use `self.log(..., batch_size=batch_size)`.\n",
      "`Trainer.fit` stopped: `max_epochs=1` reached.\n"
     ]
    }
   ],
   "source": [
    "camembert_trainer.fit(lightning_model, train_dataloaders=train_dataloader, val_dataloaders=val_dataloader) "
   ]
  },
  {
   "cell_type": "code",
   "execution_count": 16,
   "metadata": {},
   "outputs": [
    {
     "name": "stderr",
     "output_type": "stream",
     "text": [
      "Some weights of the model checkpoint at camembert-base were not used when initializing CamembertForSequenceClassification: ['roberta.pooler.dense.weight', 'roberta.pooler.dense.bias', 'lm_head.dense.weight', 'lm_head.bias', 'lm_head.layer_norm.bias', 'lm_head.dense.bias', 'lm_head.layer_norm.weight']\n",
      "- This IS expected if you are initializing CamembertForSequenceClassification from the checkpoint of a model trained on another task or with another architecture (e.g. initializing a BertForSequenceClassification model from a BertForPreTraining model).\n",
      "- This IS NOT expected if you are initializing CamembertForSequenceClassification from the checkpoint of a model that you expect to be exactly identical (initializing a BertForSequenceClassification model from a BertForSequenceClassification model).\n",
      "Some weights of CamembertForSequenceClassification were not initialized from the model checkpoint at camembert-base and are newly initialized: ['classifier.dense.weight', 'classifier.out_proj.weight', 'classifier.out_proj.bias', 'classifier.dense.bias']\n",
      "You should probably TRAIN this model on a down-stream task to be able to use it for predictions and inference.\n"
     ]
    }
   ],
   "source": [
    "lightning_model = LightningModel.load_from_checkpoint(checkpoint_path=model_checkpoint.best_model_path)"
   ]
  },
  {
   "cell_type": "code",
   "execution_count": 17,
   "metadata": {},
   "outputs": [
    {
     "data": {
      "text/plain": [
       "{0: 'non-esg', 1: 'environnemental', 2: 'social', 3: 'gouvernance'}"
      ]
     },
     "execution_count": 17,
     "metadata": {},
     "output_type": "execute_result"
    }
   ],
   "source": [
    "# do id to label mapping\n",
    "ID_TO_LABEL = {k: v for k, v in df[[\"label\", \"esg_category\"]].drop_duplicates().to_numpy()}\n",
    "ID_TO_LABEL"
   ]
  },
  {
   "cell_type": "code",
   "execution_count": 29,
   "metadata": {},
   "outputs": [],
   "source": [
    "def get_preds(model, tokenizer, sentence):\n",
    "    tokenized_sentence = tokenizer(sentence, return_tensors=\"pt\")\n",
    "    input_ids, attention_mask = tokenized_sentence.input_ids, tokenized_sentence.attention_mask\n",
    "\n",
    "    out = model(\n",
    "        input_ids=tokenized_sentence.input_ids,\n",
    "        attention_mask=tokenized_sentence.attention_mask\n",
    "    )\n",
    "\n",
    "    logits = out.logits\n",
    "\n",
    "    probas = torch.softmax(logits, -1).squeeze()\n",
    "\n",
    "    pred = torch.argmax(probas)\n",
    "\n",
    "    return ID_TO_LABEL[pred.item()], probas[pred].item()"
   ]
  },
  {
   "cell_type": "code",
   "execution_count": 70,
   "metadata": {},
   "outputs": [
    {
     "name": "stdout",
     "output_type": "stream",
     "text": [
      "Label: gouvernance, confidence: 0.27\n"
     ]
    }
   ],
   "source": [
    "\n",
    "label_predicted, proba = get_preds(lightning_model.model, tokenizer, test_sentence)\n",
    "\n",
    "print(f\"Label: {label_predicted}, confidence: {proba:.2f}\")"
   ]
  },
  {
   "cell_type": "code",
   "execution_count": 124,
   "metadata": {},
   "outputs": [
    {
     "name": "stdout",
     "output_type": "stream",
     "text": [
      "Text: canada hate crimes augmenté 47% musulmans, juifs noirs ciblés: crimes haine canada augmenté 47% 2017, ciblant principalement musulmans, juifs noirs, nouveaux chiffres publiés l'agence statistique pays. forte augmentation été crimes ciblant musulmans, rapporté statistics canada, année fusillade masse mortelle mosquée québec, suivie d'une mouvement gouvernement étudier l'islamophobie déclenché sentiment anti-musulman. nombre crimes haine ciblant musulmans doublé, passant 349 139. nombre crimes haine ciblant noirs augmenté 50%, 321 contre 214. nombre crimes haine ciblant peuple juif passé 360 221.\n",
      "ESG Category: social\n",
      "predicted category: social, confidence: 0.29\n"
     ]
    }
   ],
   "source": [
    "# sample 100 text from df_train and its label and esg_category\n",
    "\n",
    "sample = df_train.sample(100)\n",
    "sample_text = sample[\"text\"]\n",
    "sample_label = sample[\"label\"]\n",
    "sample_esg_category = sample[\"esg_category\"]\n",
    "\n",
    "print(f\"Text: {sample_text}\")\n",
    "print(f\"ESG Category: {sample_esg_category}\")\n",
    "\n",
    "label_predicted, proba = get_preds(lightning_model.model, tokenizer, sample_text)\n",
    "\n",
    "print(f\"predicted category: {label_predicted}, confidence: {proba:.2f}\")"
   ]
  },
  {
   "cell_type": "code",
   "execution_count": 130,
   "metadata": {},
   "outputs": [
    {
     "ename": "ValueError",
     "evalue": "text input must of type `str` (single example), `List[str]` (batch or single pretokenized example) or `List[List[str]]` (batch of pretokenized examples).",
     "output_type": "error",
     "traceback": [
      "\u001b[1;31m---------------------------------------------------------------------------\u001b[0m",
      "\u001b[1;31mValueError\u001b[0m                                Traceback (most recent call last)",
      "Cell \u001b[1;32mIn[130], line 7\u001b[0m\n\u001b[0;32m      4\u001b[0m sample_label \u001b[38;5;241m=\u001b[39m sample[\u001b[38;5;124m\"\u001b[39m\u001b[38;5;124mlabel\u001b[39m\u001b[38;5;124m\"\u001b[39m]\n\u001b[0;32m      5\u001b[0m sample_esg_category \u001b[38;5;241m=\u001b[39m sample[\u001b[38;5;124m\"\u001b[39m\u001b[38;5;124mesg_category\u001b[39m\u001b[38;5;124m\"\u001b[39m]\n\u001b[1;32m----> 7\u001b[0m predicted_labels, proba \u001b[38;5;241m=\u001b[39m \u001b[43mget_preds\u001b[49m\u001b[43m(\u001b[49m\u001b[43mlightning_model\u001b[49m\u001b[38;5;241;43m.\u001b[39;49m\u001b[43mmodel\u001b[49m\u001b[43m,\u001b[49m\u001b[43m \u001b[49m\u001b[43mtokenizer\u001b[49m\u001b[43m,\u001b[49m\u001b[43m \u001b[49m\u001b[43msample_text\u001b[49m\u001b[43m)\u001b[49m\n",
      "Cell \u001b[1;32mIn[29], line 2\u001b[0m, in \u001b[0;36mget_preds\u001b[1;34m(model, tokenizer, sentence)\u001b[0m\n\u001b[0;32m      1\u001b[0m \u001b[38;5;28;01mdef\u001b[39;00m \u001b[38;5;21mget_preds\u001b[39m(model, tokenizer, sentence):\n\u001b[1;32m----> 2\u001b[0m     tokenized_sentence \u001b[38;5;241m=\u001b[39m \u001b[43mtokenizer\u001b[49m\u001b[43m(\u001b[49m\u001b[43msentence\u001b[49m\u001b[43m,\u001b[49m\u001b[43m \u001b[49m\u001b[43mreturn_tensors\u001b[49m\u001b[38;5;241;43m=\u001b[39;49m\u001b[38;5;124;43m\"\u001b[39;49m\u001b[38;5;124;43mpt\u001b[39;49m\u001b[38;5;124;43m\"\u001b[39;49m\u001b[43m)\u001b[49m\n\u001b[0;32m      3\u001b[0m     input_ids, attention_mask \u001b[38;5;241m=\u001b[39m tokenized_sentence\u001b[38;5;241m.\u001b[39minput_ids, tokenized_sentence\u001b[38;5;241m.\u001b[39mattention_mask\n\u001b[0;32m      5\u001b[0m     out \u001b[38;5;241m=\u001b[39m model(\n\u001b[0;32m      6\u001b[0m         input_ids\u001b[38;5;241m=\u001b[39mtokenized_sentence\u001b[38;5;241m.\u001b[39minput_ids,\n\u001b[0;32m      7\u001b[0m         attention_mask\u001b[38;5;241m=\u001b[39mtokenized_sentence\u001b[38;5;241m.\u001b[39mattention_mask\n\u001b[0;32m      8\u001b[0m     )\n",
      "File \u001b[1;32md:\\azeem\\Documents\\UNIGE\\MSc CS\\sentiment-analysis-for-msci-rating\\env\\Lib\\site-packages\\transformers\\tokenization_utils_base.py:2561\u001b[0m, in \u001b[0;36mPreTrainedTokenizerBase.__call__\u001b[1;34m(self, text, text_pair, text_target, text_pair_target, add_special_tokens, padding, truncation, max_length, stride, is_split_into_words, pad_to_multiple_of, return_tensors, return_token_type_ids, return_attention_mask, return_overflowing_tokens, return_special_tokens_mask, return_offsets_mapping, return_length, verbose, **kwargs)\u001b[0m\n\u001b[0;32m   2559\u001b[0m     \u001b[38;5;28;01mif\u001b[39;00m \u001b[38;5;129;01mnot\u001b[39;00m \u001b[38;5;28mself\u001b[39m\u001b[38;5;241m.\u001b[39m_in_target_context_manager:\n\u001b[0;32m   2560\u001b[0m         \u001b[38;5;28mself\u001b[39m\u001b[38;5;241m.\u001b[39m_switch_to_input_mode()\n\u001b[1;32m-> 2561\u001b[0m     encodings \u001b[38;5;241m=\u001b[39m \u001b[38;5;28;43mself\u001b[39;49m\u001b[38;5;241;43m.\u001b[39;49m\u001b[43m_call_one\u001b[49m\u001b[43m(\u001b[49m\u001b[43mtext\u001b[49m\u001b[38;5;241;43m=\u001b[39;49m\u001b[43mtext\u001b[49m\u001b[43m,\u001b[49m\u001b[43m \u001b[49m\u001b[43mtext_pair\u001b[49m\u001b[38;5;241;43m=\u001b[39;49m\u001b[43mtext_pair\u001b[49m\u001b[43m,\u001b[49m\u001b[43m \u001b[49m\u001b[38;5;241;43m*\u001b[39;49m\u001b[38;5;241;43m*\u001b[39;49m\u001b[43mall_kwargs\u001b[49m\u001b[43m)\u001b[49m\n\u001b[0;32m   2562\u001b[0m \u001b[38;5;28;01mif\u001b[39;00m text_target \u001b[38;5;129;01mis\u001b[39;00m \u001b[38;5;129;01mnot\u001b[39;00m \u001b[38;5;28;01mNone\u001b[39;00m:\n\u001b[0;32m   2563\u001b[0m     \u001b[38;5;28mself\u001b[39m\u001b[38;5;241m.\u001b[39m_switch_to_target_mode()\n",
      "File \u001b[1;32md:\\azeem\\Documents\\UNIGE\\MSc CS\\sentiment-analysis-for-msci-rating\\env\\Lib\\site-packages\\transformers\\tokenization_utils_base.py:2619\u001b[0m, in \u001b[0;36mPreTrainedTokenizerBase._call_one\u001b[1;34m(self, text, text_pair, add_special_tokens, padding, truncation, max_length, stride, is_split_into_words, pad_to_multiple_of, return_tensors, return_token_type_ids, return_attention_mask, return_overflowing_tokens, return_special_tokens_mask, return_offsets_mapping, return_length, verbose, **kwargs)\u001b[0m\n\u001b[0;32m   2616\u001b[0m         \u001b[38;5;28;01mreturn\u001b[39;00m \u001b[38;5;28;01mFalse\u001b[39;00m\n\u001b[0;32m   2618\u001b[0m \u001b[38;5;28;01mif\u001b[39;00m \u001b[38;5;129;01mnot\u001b[39;00m _is_valid_text_input(text):\n\u001b[1;32m-> 2619\u001b[0m     \u001b[38;5;28;01mraise\u001b[39;00m \u001b[38;5;167;01mValueError\u001b[39;00m(\n\u001b[0;32m   2620\u001b[0m         \u001b[38;5;124m\"\u001b[39m\u001b[38;5;124mtext input must of type `str` (single example), `List[str]` (batch or single pretokenized example) \u001b[39m\u001b[38;5;124m\"\u001b[39m\n\u001b[0;32m   2621\u001b[0m         \u001b[38;5;124m\"\u001b[39m\u001b[38;5;124mor `List[List[str]]` (batch of pretokenized examples).\u001b[39m\u001b[38;5;124m\"\u001b[39m\n\u001b[0;32m   2622\u001b[0m     )\n\u001b[0;32m   2624\u001b[0m \u001b[38;5;28;01mif\u001b[39;00m text_pair \u001b[38;5;129;01mis\u001b[39;00m \u001b[38;5;129;01mnot\u001b[39;00m \u001b[38;5;28;01mNone\u001b[39;00m \u001b[38;5;129;01mand\u001b[39;00m \u001b[38;5;129;01mnot\u001b[39;00m _is_valid_text_input(text_pair):\n\u001b[0;32m   2625\u001b[0m     \u001b[38;5;28;01mraise\u001b[39;00m \u001b[38;5;167;01mValueError\u001b[39;00m(\n\u001b[0;32m   2626\u001b[0m         \u001b[38;5;124m\"\u001b[39m\u001b[38;5;124mtext input must of type `str` (single example), `List[str]` (batch or single pretokenized example) \u001b[39m\u001b[38;5;124m\"\u001b[39m\n\u001b[0;32m   2627\u001b[0m         \u001b[38;5;124m\"\u001b[39m\u001b[38;5;124mor `List[List[str]]` (batch of pretokenized examples).\u001b[39m\u001b[38;5;124m\"\u001b[39m\n\u001b[0;32m   2628\u001b[0m     )\n",
      "\u001b[1;31mValueError\u001b[0m: text input must of type `str` (single example), `List[str]` (batch or single pretokenized example) or `List[List[str]]` (batch of pretokenized examples)."
     ]
    }
   ],
   "source": [
    "# perform prediction on 100 samples from df_test\n",
    "sample = df_test.sample(100)\n",
    "sample_text = sample[\"text\"]\n",
    "sample_label = sample[\"label\"]\n",
    "sample_esg_category = sample[\"esg_category\"]\n",
    "\n",
    "predicted_labels, proba = get_preds(lightning_model.model, tokenizer, sample_text)\n"
   ]
  },
  {
   "cell_type": "code",
   "execution_count": 125,
   "metadata": {},
   "outputs": [],
   "source": [
    "# save model\n",
    "lightning_model.model.save_pretrained(\"../models/camembert-base-esg-classification.pt\")"
   ]
  },
  {
   "cell_type": "code",
   "execution_count": 127,
   "metadata": {},
   "outputs": [
    {
     "data": {
      "text/plain": [
       "('social', 0.28565725684165955)"
      ]
     },
     "execution_count": 127,
     "metadata": {},
     "output_type": "execute_result"
    }
   ],
   "source": [
    "# load model\n",
    "model = AutoModelForSequenceClassification.from_pretrained(\"../models/camembert-base-esg-classification.pt\")\n",
    "\n",
    "# test model\n",
    "label_predicted, proba = get_preds(model, tokenizer, sample_text)\n",
    "\n",
    "label_predicted, proba"
   ]
  },
  {
   "cell_type": "code",
   "execution_count": 129,
   "metadata": {},
   "outputs": [
    {
     "ename": "NameError",
     "evalue": "name 'labels' is not defined",
     "output_type": "error",
     "traceback": [
      "\u001b[1;31m---------------------------------------------------------------------------\u001b[0m",
      "\u001b[1;31mNameError\u001b[0m                                 Traceback (most recent call last)",
      "Cell \u001b[1;32mIn[129], line 18\u001b[0m\n\u001b[0;32m      7\u001b[0m     plt\u001b[38;5;241m.\u001b[39mfigure(figsize\u001b[38;5;241m=\u001b[39m(\u001b[38;5;241m16\u001b[39m, \u001b[38;5;241m14\u001b[39m))\n\u001b[0;32m      8\u001b[0m     sns\u001b[38;5;241m.\u001b[39mheatmap(\n\u001b[0;32m      9\u001b[0m         confusion_norm,\n\u001b[0;32m     10\u001b[0m         annot\u001b[38;5;241m=\u001b[39mconfusion,\n\u001b[1;32m   (...)\u001b[0m\n\u001b[0;32m     15\u001b[0m         cmap\u001b[38;5;241m=\u001b[39m\u001b[38;5;124m\"\u001b[39m\u001b[38;5;124mviridis\u001b[39m\u001b[38;5;124m\"\u001b[39m\n\u001b[0;32m     16\u001b[0m     )\n\u001b[1;32m---> 18\u001b[0m plot_confusion_matrix(\u001b[43mlabels\u001b[49m, camembert_preds, label_names)\n",
      "\u001b[1;31mNameError\u001b[0m: name 'labels' is not defined"
     ]
    }
   ],
   "source": [
    "import seaborn as sns\n",
    "\n",
    "def plot_confusion_matrix(labels, preds, label_names):\n",
    "    confusion_norm = confusion_matrix(labels, preds.tolist(), labels=list(range(len(label_names))), normalize=\"true\")\n",
    "    confusion = confusion_matrix(labels, preds.tolist(), labels=list(range(len(label_names))))\n",
    "    \n",
    "    plt.figure(figsize=(16, 14))\n",
    "    sns.heatmap(\n",
    "        confusion_norm,\n",
    "        annot=confusion,\n",
    "        cbar=False,\n",
    "        fmt=\"d\",\n",
    "        xticklabels=label_names,\n",
    "        yticklabels=label_names,\n",
    "        cmap=\"viridis\"\n",
    "    )\n",
    "    \n",
    "plot_confusion_matrix(labels, camembert_preds, label_names)"
   ]
  }
 ],
 "metadata": {
  "kernelspec": {
   "display_name": "env",
   "language": "python",
   "name": "python3"
  },
  "language_info": {
   "codemirror_mode": {
    "name": "ipython",
    "version": 3
   },
   "file_extension": ".py",
   "mimetype": "text/x-python",
   "name": "python",
   "nbconvert_exporter": "python",
   "pygments_lexer": "ipython3",
   "version": "3.11.2"
  }
 },
 "nbformat": 4,
 "nbformat_minor": 2
}
