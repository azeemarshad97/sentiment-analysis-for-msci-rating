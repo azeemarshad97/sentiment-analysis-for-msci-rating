{
 "cells": [
  {
   "cell_type": "code",
   "execution_count": 2,
   "metadata": {},
   "outputs": [],
   "source": [
    "from transformers import pipeline\n",
    "import pandas as pd\n",
    "import utilsNb as utils\n",
    "import numpy as np\n",
    "from tqdm import tqdm"
   ]
  },
  {
   "cell_type": "code",
   "execution_count": 3,
   "metadata": {},
   "outputs": [],
   "source": [
    "ESG_DICT = {\n",
    "    \"environement\": [\"changement climatique\", \"capital naturel\", \"pollution et déchets\", \"Opportunités environnementales\"],\n",
    "    \"social\": [\"capital humain\", \"responsabilité du produit\", \"opposition des parties prenantes\", \"opportunités sociales\", \"services publiques\"],\n",
    "    \"gouvernance\": [\"gouvernance d'entreprises\", \"comportement d'entreprises\"],\n",
    "    \"non-esg\": [\"autre\",\"divertissement\"]\n",
    "}\n",
    "\n",
    "CANDIDATE_LABELS = list(ESG_DICT.values())\n",
    "CANDIDATE_LABELS = [item for sublist in CANDIDATE_LABELS for item in sublist]\n",
    "\n",
    "\n",
    "classifier = pipeline(\"zero-shot-classification\", model=\"MoritzLaurer/mDeBERTa-v3-base-mnli-xnli\")\n"
   ]
  },
  {
   "cell_type": "code",
   "execution_count": 4,
   "metadata": {},
   "outputs": [],
   "source": [
    "def predict_sample(sample, candidate_labels, top_k = 3, return_all = False):\n",
    "    output = classifier(sample, candidate_labels, multi_label=False)\n",
    "    output_df = pd.DataFrame(output)[[\"labels\", \"scores\"]][:top_k]\n",
    "    # find the key from the esg_dict\n",
    "    output_df[\"key_label\"] = output_df[\"labels\"].apply(lambda x: [key for key, value in ESG_DICT.items() if x in value][0])\n",
    "    \n",
    "    count_dict = {}\n",
    "    for label in output_df[\"key_label\"]:\n",
    "        count_dict[label] = count_dict.get(label, 0) + 1\n",
    "\n",
    "    best_choice = max(count_dict, key=count_dict.get)\n",
    "    \n",
    "    if return_all: return output_df, best_choice\n",
    "    \n",
    "    return best_choice\n",
    "\n"
   ]
  },
  {
   "cell_type": "code",
   "execution_count": 5,
   "metadata": {},
   "outputs": [
    {
     "data": {
      "text/plain": [
       "(                             labels    scores     key_label\n",
       " 0         responsabilité du produit  0.309370        social\n",
       " 1  opposition des parties prenantes  0.237279        social\n",
       " 2                             autre  0.173625       non-esg\n",
       " 3                    capital humain  0.079359        social\n",
       " 4        comportement d'entreprises  0.069967   gouvernance\n",
       " 5                services publiques  0.026884        social\n",
       " 6         gouvernance d'entreprises  0.025327   gouvernance\n",
       " 7              pollution et déchets  0.017591  environement\n",
       " 8                    divertissement  0.017427       non-esg\n",
       " 9                   capital naturel  0.015270  environement,\n",
       " 'social')"
      ]
     },
     "execution_count": 5,
     "metadata": {},
     "output_type": "execute_result"
    }
   ],
   "source": [
    "smp = \"Après études, il a été décidé de ne \\npas  le  réaliser,  car  ce  genre  de  parking  est  un  aspirateur  à  voitures. Il  n’est  pas  contre  les \\nvoitures,  mais  il  trouve  qu’à  cet  endroit,  il  est  inutile  de  faire  cette  démarche. Raison  pour \\nlaquelle il invite le Conseil à ne pas voter cet amendement. \\n\\nMme Brigitte PEREZ demande le vote nominal. Plus d’un cinquième des membres soutiennent \\ncette demande. \\n\\n9 M.\"\n",
    "\n",
    "predict_sample(smp, CANDIDATE_LABELS, return_all=True, top_k=10)"
   ]
  },
  {
   "cell_type": "code",
   "execution_count": 6,
   "metadata": {},
   "outputs": [
    {
     "data": {
      "text/html": [
       "<div>\n",
       "<style scoped>\n",
       "    .dataframe tbody tr th:only-of-type {\n",
       "        vertical-align: middle;\n",
       "    }\n",
       "\n",
       "    .dataframe tbody tr th {\n",
       "        vertical-align: top;\n",
       "    }\n",
       "\n",
       "    .dataframe thead th {\n",
       "        text-align: right;\n",
       "    }\n",
       "</style>\n",
       "<table border=\"1\" class=\"dataframe\">\n",
       "  <thead>\n",
       "    <tr style=\"text-align: right;\">\n",
       "      <th></th>\n",
       "      <th>section_number</th>\n",
       "      <th>text</th>\n",
       "      <th>cbl_pred</th>\n",
       "      <th>cbl_1024_pred</th>\n",
       "    </tr>\n",
       "  </thead>\n",
       "  <tbody>\n",
       "    <tr>\n",
       "      <th>0</th>\n",
       "      <td>1</td>\n",
       "      <td>1. \\n\\nAppel :  \\n\\n93 Conseillères et Conseil...</td>\n",
       "      <td>non-esg</td>\n",
       "      <td>gouvernance</td>\n",
       "    </tr>\n",
       "    <tr>\n",
       "      <th>1</th>\n",
       "      <td>2</td>\n",
       "      <td>2. \\n\\nProcès-verbal de la séance du 13 novemb...</td>\n",
       "      <td>non-esg</td>\n",
       "      <td>non-esg</td>\n",
       "    </tr>\n",
       "    <tr>\n",
       "      <th>2</th>\n",
       "      <td>3</td>\n",
       "      <td>3. \\n\\nApprobation de l’ordre du jour \\n\\nM. l...</td>\n",
       "      <td>non-esg</td>\n",
       "      <td>non-esg</td>\n",
       "    </tr>\n",
       "    <tr>\n",
       "      <th>3</th>\n",
       "      <td>4</td>\n",
       "      <td>4. \\n\\nCommunications du Bureau \\n\\n•  M. le  ...</td>\n",
       "      <td>non-esg</td>\n",
       "      <td>gouvernance</td>\n",
       "    </tr>\n",
       "    <tr>\n",
       "      <th>4</th>\n",
       "      <td>4</td>\n",
       "      <td>Or, il a appris ce matin qu’un membre du Conse...</td>\n",
       "      <td>non-esg</td>\n",
       "      <td>gouvernance</td>\n",
       "    </tr>\n",
       "  </tbody>\n",
       "</table>\n",
       "</div>"
      ],
      "text/plain": [
       "   section_number                                               text cbl_pred  \\\n",
       "0               1  1. \\n\\nAppel :  \\n\\n93 Conseillères et Conseil...  non-esg   \n",
       "1               2  2. \\n\\nProcès-verbal de la séance du 13 novemb...  non-esg   \n",
       "2               3  3. \\n\\nApprobation de l’ordre du jour \\n\\nM. l...  non-esg   \n",
       "3               4  4. \\n\\nCommunications du Bureau \\n\\n•  M. le  ...  non-esg   \n",
       "4               4  Or, il a appris ce matin qu’un membre du Conse...  non-esg   \n",
       "\n",
       "  cbl_1024_pred  \n",
       "0   gouvernance  \n",
       "1       non-esg  \n",
       "2       non-esg  \n",
       "3   gouvernance  \n",
       "4   gouvernance  "
      ]
     },
     "execution_count": 6,
     "metadata": {},
     "output_type": "execute_result"
    }
   ],
   "source": [
    "df = pd.read_csv(\"./pv_2312/pv2312_512_predictions.csv\",header = 0)\n",
    "df.head()"
   ]
  },
  {
   "cell_type": "code",
   "execution_count": null,
   "metadata": {},
   "outputs": [],
   "source": [
    "df['0-shot'] = None\n",
    "for i,row in tqdm(df.iterrows(), total = len(df)):\n",
    "    df.at[i,'0-shot'] = predict_sample(row['text'], CANDIDATE_LABELS)   "
   ]
  },
  {
   "cell_type": "code",
   "execution_count": 14,
   "metadata": {},
   "outputs": [],
   "source": [
    "# df.to_csv(\"./pv_2312/pv512_predictions_0shot.csv\", index = False)"
   ]
  },
  {
   "cell_type": "markdown",
   "metadata": {},
   "source": [
    "# Zero shot classification with machine translation"
   ]
  },
  {
   "cell_type": "code",
   "execution_count": 23,
   "metadata": {},
   "outputs": [],
   "source": [
    "# Use a pipeline as a high-level helper\n",
    "from transformers import pipeline\n",
    "from easynmt import EasyNMT\n",
    "import warnings\n",
    "warnings.filterwarnings('ignore')\n",
    "\n",
    "pipe = pipeline(\"zero-shot-classification\", model=\"MoritzLaurer/deberta-v3-large-zeroshot-v1.1-all-33\")\n",
    "model = EasyNMT('opus-mt',cache_folder=\"./NMT_model_cache\")\n"
   ]
  },
  {
   "cell_type": "code",
   "execution_count": null,
   "metadata": {},
   "outputs": [],
   "source": [
    "df['0-shot-EN'] = None\n",
    "for i,row in tqdm(df.iterrows(), total = len(df)):\n",
    "    fr_text = row['text']\n",
    "    en_text = model.translate(fr_text, source_lang='fr', target_lang='en')\n",
    "    df.at[i,'0-shot-EN'] = predict_sample(en_text, CANDIDATE_LABELS)\n"
   ]
  },
  {
   "cell_type": "code",
   "execution_count": null,
   "metadata": {},
   "outputs": [],
   "source": [
    "df.to_csv(\"./pv_2312/pv512_predictions_0shot_x2.csv\", index = False)"
   ]
  }
 ],
 "metadata": {
  "kernelspec": {
   "display_name": "env",
   "language": "python",
   "name": "python3"
  },
  "language_info": {
   "codemirror_mode": {
    "name": "ipython",
    "version": 3
   },
   "file_extension": ".py",
   "mimetype": "text/x-python",
   "name": "python",
   "nbconvert_exporter": "python",
   "pygments_lexer": "ipython3",
   "version": "3.11.2"
  }
 },
 "nbformat": 4,
 "nbformat_minor": 2
}
