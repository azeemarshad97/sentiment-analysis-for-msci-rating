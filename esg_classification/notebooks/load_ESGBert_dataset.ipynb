{
 "cells": [
  {
   "cell_type": "markdown",
   "metadata": {},
   "source": [
    "This Notebook intends to compare our trained models and the ensemble learning technique, with huggingface's model available on huggingface. Article reference [here](https://www.sciencedirect.com/science/article/pii/S1544612324000096)"
   ]
  },
  {
   "cell_type": "markdown",
   "metadata": {},
   "source": [
    "# Data Import"
   ]
  },
  {
   "cell_type": "code",
   "execution_count": 1,
   "metadata": {},
   "outputs": [],
   "source": [
    "import pandas as pd\n",
    "from datasets import load_dataset\n"
   ]
  },
  {
   "cell_type": "code",
   "execution_count": 2,
   "metadata": {},
   "outputs": [],
   "source": [
    "social_data = load_dataset(\"ESGBERT/social_2k\")['train'].to_pandas().rename(columns={'soc': 'esg_category'})\n",
    "gov_data = load_dataset(\"ESGBERT/governance_2k\")['train'].to_pandas().rename(columns={'gov': 'esg_category'})\n",
    "env_data = load_dataset(\"ESGBERT/environmental_2k\")['train'].to_pandas().rename(columns={'env': 'esg_category'})"
   ]
  },
  {
   "cell_type": "code",
   "execution_count": 14,
   "metadata": {},
   "outputs": [
    {
     "name": "stdout",
     "output_type": "stream",
     "text": [
      "['social' 'gouvernance' 'environnemental' 'non-esg']\n"
     ]
    },
    {
     "data": {
      "text/html": [
       "<div>\n",
       "<style scoped>\n",
       "    .dataframe tbody tr th:only-of-type {\n",
       "        vertical-align: middle;\n",
       "    }\n",
       "\n",
       "    .dataframe tbody tr th {\n",
       "        vertical-align: top;\n",
       "    }\n",
       "\n",
       "    .dataframe thead th {\n",
       "        text-align: right;\n",
       "    }\n",
       "</style>\n",
       "<table border=\"1\" class=\"dataframe\">\n",
       "  <thead>\n",
       "    <tr style=\"text-align: right;\">\n",
       "      <th></th>\n",
       "      <th>text</th>\n",
       "      <th>esg_category</th>\n",
       "    </tr>\n",
       "  </thead>\n",
       "  <tbody>\n",
       "    <tr>\n",
       "      <th>0</th>\n",
       "      <td>We have a dedicated team who manage a portfoli...</td>\n",
       "      <td>social</td>\n",
       "    </tr>\n",
       "    <tr>\n",
       "      <th>1</th>\n",
       "      <td>A listed entity should disclose whether it has...</td>\n",
       "      <td>social</td>\n",
       "    </tr>\n",
       "    <tr>\n",
       "      <th>2</th>\n",
       "      <td>Our suppliers' activities support our overall ...</td>\n",
       "      <td>social</td>\n",
       "    </tr>\n",
       "    <tr>\n",
       "      <th>3</th>\n",
       "      <td>This year we raised the bar on our environment...</td>\n",
       "      <td>social</td>\n",
       "    </tr>\n",
       "    <tr>\n",
       "      <th>4</th>\n",
       "      <td>the BGC’s AdTech forum, which includes a parti...</td>\n",
       "      <td>social</td>\n",
       "    </tr>\n",
       "    <tr>\n",
       "      <th>...</th>\n",
       "      <td>...</td>\n",
       "      <td>...</td>\n",
       "    </tr>\n",
       "    <tr>\n",
       "      <th>595</th>\n",
       "      <td>The information reported by the Company concer...</td>\n",
       "      <td>non-esg</td>\n",
       "    </tr>\n",
       "    <tr>\n",
       "      <th>596</th>\n",
       "      <td>One measure of loyalty is the employees’ years...</td>\n",
       "      <td>non-esg</td>\n",
       "    </tr>\n",
       "    <tr>\n",
       "      <th>597</th>\n",
       "      <td>The Board has established a remuneration commi...</td>\n",
       "      <td>non-esg</td>\n",
       "    </tr>\n",
       "    <tr>\n",
       "      <th>598</th>\n",
       "      <td>This development offers additional growth pote...</td>\n",
       "      <td>non-esg</td>\n",
       "    </tr>\n",
       "    <tr>\n",
       "      <th>599</th>\n",
       "      <td>While COVID-19 restrictions have made the trad...</td>\n",
       "      <td>non-esg</td>\n",
       "    </tr>\n",
       "  </tbody>\n",
       "</table>\n",
       "<p>600 rows × 2 columns</p>\n",
       "</div>"
      ],
      "text/plain": [
       "                                                  text esg_category\n",
       "0    We have a dedicated team who manage a portfoli...       social\n",
       "1    A listed entity should disclose whether it has...       social\n",
       "2    Our suppliers' activities support our overall ...       social\n",
       "3    This year we raised the bar on our environment...       social\n",
       "4    the BGC’s AdTech forum, which includes a parti...       social\n",
       "..                                                 ...          ...\n",
       "595  The information reported by the Company concer...      non-esg\n",
       "596  One measure of loyalty is the employees’ years...      non-esg\n",
       "597  The Board has established a remuneration commi...      non-esg\n",
       "598  This development offers additional growth pote...      non-esg\n",
       "599  While COVID-19 restrictions have made the trad...      non-esg\n",
       "\n",
       "[600 rows x 2 columns]"
      ]
     },
     "execution_count": 14,
     "metadata": {},
     "output_type": "execute_result"
    }
   ],
   "source": [
    "social_data['esg_category'] = social_data['esg_category'].map({1: 'social', 0: 'non-esg'}).fillna(social_data['esg_category'])\n",
    "gov_data['esg_category'] = gov_data['esg_category'].map({1: 'gouvernance', 0: 'non-esg'}).fillna(gov_data['esg_category'])\n",
    "env_data['esg_category'] = env_data['esg_category'].map({1: 'environnemental', 0: 'non-esg'}).fillna(env_data['esg_category'])\n",
    "\n",
    "labels = ['social', 'gouvernance', 'environnemental']\n",
    "\n",
    "# sample 150 social, 150 governance, 150 environmental from each dataset and 50 non-esg from each dataset\n",
    "test_data = pd.concat([social_data[social_data['esg_category'] == 'social'].sample(150,random_state=42),\n",
    "                       gov_data[gov_data['esg_category'] == 'gouvernance'].sample(150,random_state=42),\n",
    "                       env_data[env_data['esg_category'] == 'environnemental'].sample(150,random_state=42),\n",
    "                       social_data[social_data['esg_category'] == 'non-esg'].sample(50,random_state=42),\n",
    "                       gov_data[gov_data['esg_category'] == 'non-esg'].sample(50,random_state=42),\n",
    "                       env_data[env_data['esg_category'] == 'non-esg'].sample(50,random_state=42)], ).drop(columns=['Unnamed: 0'])\n",
    "test_data.reset_index(drop=True, inplace=True)\n",
    "test_data.to_csv(\"ESGBert_test_data.csv\", index=False)\n",
    "test_data"
   ]
  },
  {
   "cell_type": "code",
   "execution_count": 15,
   "metadata": {},
   "outputs": [],
   "source": []
  }
 ],
 "metadata": {
  "kernelspec": {
   "display_name": "env",
   "language": "python",
   "name": "python3"
  },
  "language_info": {
   "codemirror_mode": {
    "name": "ipython",
    "version": 3
   },
   "file_extension": ".py",
   "mimetype": "text/x-python",
   "name": "python",
   "nbconvert_exporter": "python",
   "pygments_lexer": "ipython3",
   "version": "3.11.2"
  }
 },
 "nbformat": 4,
 "nbformat_minor": 2
}
