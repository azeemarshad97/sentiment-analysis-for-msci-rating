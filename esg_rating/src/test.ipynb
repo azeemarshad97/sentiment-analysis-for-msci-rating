{
 "cells": [
  {
   "cell_type": "code",
   "execution_count": 1,
   "metadata": {},
   "outputs": [],
   "source": [
    "import pandas as pd\n",
    "from transformers import pipeline\n",
    "import matplotlib.pyplot as plt"
   ]
  },
  {
   "cell_type": "markdown",
   "metadata": {},
   "source": [
    "## Sentiment Analysis by aggregating predictions"
   ]
  },
  {
   "cell_type": "code",
   "execution_count": 7,
   "metadata": {},
   "outputs": [
    {
     "name": "stdout",
     "output_type": "stream",
     "text": [
      "Aggregated Score: 3.8\n"
     ]
    }
   ],
   "source": [
    "from transformers import AutoTokenizer, AutoModelForSequenceClassification\n",
    "import torch\n",
    "\n",
    "\n",
    "def normalize_label(label, score):\n",
    "    \"\"\"\n",
    "    Convert labels to a unified numerical scale.\n",
    "    For 'pos', 'neg', 'neutral', converts based on a predefined mapping.\n",
    "    Assumes 5-star labels are already numerical.\n",
    "    \"\"\"\n",
    "    label_map = {'positive': 5, 'neutral': 3, 'negative': 1}\n",
    "    if label in label_map:\n",
    "        return label_map[label] * score  \n",
    "    else:\n",
    "        star_rating = int(label.split()[0])\n",
    "        return star_rating * score  \n",
    "\n",
    "def aggregate_predictions(predictions):\n",
    "    \"\"\"\n",
    "    Averages the normalized scores from all models.\n",
    "    `predictions` is a list of tuples/lists with (label, score) from all models.\n",
    "    \"\"\"\n",
    "    normalized_scores = [normalize_label(label, score) for label, score in predictions]\n",
    "    if normalized_scores:\n",
    "        return sum(normalized_scores) / len(normalized_scores)\n",
    "    else:\n",
    "        return None\n",
    "\n",
    "def load_model(model_name: str):\n",
    "    \"\"\"\n",
    "    Loads a pre-trained model from Hugging Face's model hub.\n",
    "    \"\"\"\n",
    "    \n",
    "    tokenizer = AutoTokenizer.from_pretrained(model_name)\n",
    "    model = AutoModelForSequenceClassification.from_pretrained(model_name)\n",
    "    \n",
    "    return model, tokenizer\n",
    "\n",
    "# Function to predict in batches\n",
    "def predict_sentiment(texts ,model, tokenizer):\n",
    "    inputs = tokenizer(texts, padding=True, truncation=True, return_tensors=\"pt\")\n",
    "    with torch.no_grad():\n",
    "        outputs = model(**inputs)\n",
    "    predictions = torch.nn.functional.softmax(outputs.logits, dim=-1)\n",
    "    predicted_indices = torch.argmax(predictions, dim=1)\n",
    "    predicted_classes = [model.config.id2label[idx.item()] for idx in predicted_indices]\n",
    "    all_probas = predictions.tolist()\n",
    "    print(all_probas)\n",
    "    probas = predictions.max(dim=1).values.tolist()\n",
    "    \n",
    "    return predicted_classes, probas\n",
    "\n",
    "\n",
    "\n",
    "\n",
    "# Example usage\n",
    "predictions = [\n",
    "    ('positive', 0.8),  # From the sentiment model (label, confidence)\n",
    "    ('4 stars', 0.9),  # From a 5-star rating model (label, confidence)\n",
    "    # Add more as needed\n",
    "]\n",
    "\n",
    "final_score = aggregate_predictions(predictions)\n",
    "print(f\"Aggregated Score: {final_score}\")\n"
   ]
  },
  {
   "cell_type": "code",
   "execution_count": 8,
   "metadata": {},
   "outputs": [],
   "source": [
    "# Load model directly\n",
    "model_checkpoints = [\"nlptown/bert-base-multilingual-uncased-sentiment\", \"bardsai/finance-sentiment-fr-base\", \"cmarkea/distilcamembert-base-sentiment\"]\n",
    "\n",
    "\n",
    "models = {\n",
    "    \"model_paths\":  model_checkpoints,\n",
    "    \"model_names\": [\"bert\", \"finance\", \"camembert\"],\n",
    "    \"models\": [load_model(m)[0] for m in model_checkpoints],\n",
    "    \"tokenizers\": [load_model(m)[1] for m in model_checkpoints]\n",
    "}\n"
   ]
  },
  {
   "cell_type": "code",
   "execution_count": 9,
   "metadata": {},
   "outputs": [],
   "source": [
    "df = pd.read_csv(\"./data/pv2312_512_predictions.csv\")"
   ]
  },
  {
   "cell_type": "code",
   "execution_count": 10,
   "metadata": {},
   "outputs": [],
   "source": [
    "texts = df['text'].tolist()"
   ]
  },
  {
   "cell_type": "code",
   "execution_count": 7,
   "metadata": {},
   "outputs": [
    {
     "name": "stdout",
     "output_type": "stream",
     "text": [
      "Predicting with bert\n",
      "Predicting with finance\n",
      "Predicting with camembert\n"
     ]
    }
   ],
   "source": [
    "# for m,t,model_name in zip(models[\"models\"], models[\"tokenizers\"], models[\"model_names\"]):\n",
    "#     print(f\"Predicting with {model_name}\")\n",
    "#     df[model_name] = predict_sentiment(texts, m, t)"
   ]
  },
  {
   "cell_type": "code",
   "execution_count": 16,
   "metadata": {},
   "outputs": [
    {
     "name": "stderr",
     "output_type": "stream",
     "text": [
      "100%|██████████| 266/266 [01:29<00:00,  2.98it/s]\n"
     ]
    }
   ],
   "source": [
    "from tqdm import tqdm \n",
    "\n",
    "for i, row in tqdm(df.iterrows(), total=len(df)):\n",
    "    bert_pred,bert_prob = predict_sentiment(row['text'], models[\"models\"][0], models[\"tokenizers\"][0])\n",
    "    finance_pred,finance_prob = predict_sentiment(row['text'], models[\"models\"][1], models[\"tokenizers\"][1])\n",
    "    camembert_pred,camembert_prob = predict_sentiment(row['text'], models[\"models\"][2], models[\"tokenizers\"][2])\n",
    "    df.at[i, \"bert_pred\"] = bert_pred[0]\n",
    "    df.at[i, \"finance_pred\"] = finance_pred[0]\n",
    "    df.at[i, \"camembert_pred\"] = camembert_pred[0]\n",
    "\n",
    "    df.at[i, \"aggregate_prediction\"] = aggregate_predictions([(bert_pred[0], bert_prob[0]), (finance_pred[0], finance_prob[0]), (camembert_pred[0], camembert_prob[0])])\n",
    "    \n",
    "\n"
   ]
  },
  {
   "cell_type": "code",
   "execution_count": 17,
   "metadata": {},
   "outputs": [],
   "source": [
    "df.to_csv(\"./results/pv2312_512_SA.csv\", index=False)"
   ]
  },
  {
   "cell_type": "code",
   "execution_count": 19,
   "metadata": {},
   "outputs": [
    {
     "name": "stdout",
     "output_type": "stream",
     "text": [
      "BERT: 1 star with confidence 0.24373239278793335\n",
      "Finance: neutral with confidence 0.9998511075973511\n",
      "Camembert: 5 stars with confidence 0.23412476480007172\n"
     ]
    }
   ],
   "source": [
    "bert_pred,bert_prob = predict_sentiment(df['text'][0], models[\"models\"][0], models[\"tokenizers\"][0])\n",
    "finance_pred,finance_prob = predict_sentiment(df['text'][0], models[\"models\"][1], models[\"tokenizers\"][1])\n",
    "camembert_pred,camembert_prob = predict_sentiment(df['text'][0], models[\"models\"][2], models[\"tokenizers\"][2])\n",
    "\n",
    "print(f\"BERT: {bert_pred[0]} with confidence {bert_prob[0]}\")\n",
    "print(f\"Finance: {finance_pred[0]} with confidence {finance_prob[0]}\")\n",
    "print(f\"Camembert: {camembert_pred[0]} with confidence {camembert_prob[0]}\")\n"
   ]
  },
  {
   "cell_type": "code",
   "execution_count": 3,
   "metadata": {},
   "outputs": [
    {
     "data": {
      "text/html": [
       "<div>\n",
       "<style scoped>\n",
       "    .dataframe tbody tr th:only-of-type {\n",
       "        vertical-align: middle;\n",
       "    }\n",
       "\n",
       "    .dataframe tbody tr th {\n",
       "        vertical-align: top;\n",
       "    }\n",
       "\n",
       "    .dataframe thead th {\n",
       "        text-align: right;\n",
       "    }\n",
       "</style>\n",
       "<table border=\"1\" class=\"dataframe\">\n",
       "  <thead>\n",
       "    <tr style=\"text-align: right;\">\n",
       "      <th></th>\n",
       "      <th>section_number</th>\n",
       "      <th>text</th>\n",
       "      <th>cbl_pred</th>\n",
       "      <th>cbl_1024_pred</th>\n",
       "    </tr>\n",
       "  </thead>\n",
       "  <tbody>\n",
       "    <tr>\n",
       "      <th>0</th>\n",
       "      <td>1</td>\n",
       "      <td>1. \\n\\nAppel :  \\n\\n93 Conseillères et Conseil...</td>\n",
       "      <td>non-esg</td>\n",
       "      <td>gouvernance</td>\n",
       "    </tr>\n",
       "    <tr>\n",
       "      <th>1</th>\n",
       "      <td>2</td>\n",
       "      <td>2. \\n\\nProcès-verbal de la séance du 13 novemb...</td>\n",
       "      <td>non-esg</td>\n",
       "      <td>non-esg</td>\n",
       "    </tr>\n",
       "    <tr>\n",
       "      <th>2</th>\n",
       "      <td>3</td>\n",
       "      <td>3. \\n\\nApprobation de l’ordre du jour \\n\\nM. l...</td>\n",
       "      <td>non-esg</td>\n",
       "      <td>non-esg</td>\n",
       "    </tr>\n",
       "    <tr>\n",
       "      <th>3</th>\n",
       "      <td>4</td>\n",
       "      <td>4. \\n\\nCommunications du Bureau \\n\\n•  M. le  ...</td>\n",
       "      <td>non-esg</td>\n",
       "      <td>gouvernance</td>\n",
       "    </tr>\n",
       "    <tr>\n",
       "      <th>4</th>\n",
       "      <td>4</td>\n",
       "      <td>Or, il a appris ce matin qu’un membre du Conse...</td>\n",
       "      <td>non-esg</td>\n",
       "      <td>gouvernance</td>\n",
       "    </tr>\n",
       "  </tbody>\n",
       "</table>\n",
       "</div>"
      ],
      "text/plain": [
       "   section_number                                               text cbl_pred  \\\n",
       "0               1  1. \\n\\nAppel :  \\n\\n93 Conseillères et Conseil...  non-esg   \n",
       "1               2  2. \\n\\nProcès-verbal de la séance du 13 novemb...  non-esg   \n",
       "2               3  3. \\n\\nApprobation de l’ordre du jour \\n\\nM. l...  non-esg   \n",
       "3               4  4. \\n\\nCommunications du Bureau \\n\\n•  M. le  ...  non-esg   \n",
       "4               4  Or, il a appris ce matin qu’un membre du Conse...  non-esg   \n",
       "\n",
       "  cbl_1024_pred  \n",
       "0   gouvernance  \n",
       "1       non-esg  \n",
       "2       non-esg  \n",
       "3   gouvernance  \n",
       "4   gouvernance  "
      ]
     },
     "execution_count": 3,
     "metadata": {},
     "output_type": "execute_result"
    }
   ],
   "source": [
    "\n",
    "df = pd.read_csv(\"../../esg_classification/notebooks/pv2312_512_predictions.csv\")\n",
    "\n",
    "\n",
    "df.head()"
   ]
  },
  {
   "cell_type": "code",
   "execution_count": 4,
   "metadata": {},
   "outputs": [
    {
     "name": "stderr",
     "output_type": "stream",
     "text": [
      "WARNING[XFORMERS]: xFormers can't load C++/CUDA extensions. xFormers was built for:\n",
      "    PyTorch 2.1.1+cu121 with CUDA 1201 (you have 2.1.1+cpu)\n",
      "    Python  3.11.6 (you have 3.11.2)\n",
      "  Please reinstall xformers (see https://github.com/facebookresearch/xformers#installing-xformers)\n",
      "  Memory-efficient attention, SwiGLU, sparse and more won't be available.\n",
      "  Set XFORMERS_MORE_DETAILS=1 for more details\n"
     ]
    }
   ],
   "source": [
    "nlp = pipeline(\"text-classification\", model=\"cmarkea/distilcamembert-base-sentiment\")"
   ]
  },
  {
   "cell_type": "code",
   "execution_count": 9,
   "metadata": {},
   "outputs": [
    {
     "name": "stdout",
     "output_type": "stream",
     "text": [
      "1 star\n"
     ]
    },
    {
     "data": {
      "text/plain": [
       "1"
      ]
     },
     "execution_count": 9,
     "metadata": {},
     "output_type": "execute_result"
    }
   ],
   "source": [
    "res = nlp(\"je te hais\")[0]['label']\n",
    "print(res)\n",
    "int(res[0])"
   ]
  },
  {
   "cell_type": "code",
   "execution_count": 10,
   "metadata": {},
   "outputs": [],
   "source": [
    "df[\"sentiment\"] = df[\"text\"].apply(lambda x: int(nlp(x[:512])[0][\"label\"][0])) "
   ]
  },
  {
   "cell_type": "code",
   "execution_count": 11,
   "metadata": {},
   "outputs": [
    {
     "data": {
      "text/html": [
       "<div>\n",
       "<style scoped>\n",
       "    .dataframe tbody tr th:only-of-type {\n",
       "        vertical-align: middle;\n",
       "    }\n",
       "\n",
       "    .dataframe tbody tr th {\n",
       "        vertical-align: top;\n",
       "    }\n",
       "\n",
       "    .dataframe thead th {\n",
       "        text-align: right;\n",
       "    }\n",
       "</style>\n",
       "<table border=\"1\" class=\"dataframe\">\n",
       "  <thead>\n",
       "    <tr style=\"text-align: right;\">\n",
       "      <th></th>\n",
       "      <th>section_number</th>\n",
       "      <th>text</th>\n",
       "      <th>cbl_pred</th>\n",
       "      <th>cbl_1024_pred</th>\n",
       "      <th>sentiment</th>\n",
       "    </tr>\n",
       "  </thead>\n",
       "  <tbody>\n",
       "    <tr>\n",
       "      <th>0</th>\n",
       "      <td>1</td>\n",
       "      <td>1. \\n\\nAppel :  \\n\\n93 Conseillères et Conseil...</td>\n",
       "      <td>non-esg</td>\n",
       "      <td>gouvernance</td>\n",
       "      <td>5</td>\n",
       "    </tr>\n",
       "    <tr>\n",
       "      <th>1</th>\n",
       "      <td>2</td>\n",
       "      <td>2. \\n\\nProcès-verbal de la séance du 13 novemb...</td>\n",
       "      <td>non-esg</td>\n",
       "      <td>non-esg</td>\n",
       "      <td>4</td>\n",
       "    </tr>\n",
       "    <tr>\n",
       "      <th>2</th>\n",
       "      <td>3</td>\n",
       "      <td>3. \\n\\nApprobation de l’ordre du jour \\n\\nM. l...</td>\n",
       "      <td>non-esg</td>\n",
       "      <td>non-esg</td>\n",
       "      <td>4</td>\n",
       "    </tr>\n",
       "    <tr>\n",
       "      <th>3</th>\n",
       "      <td>4</td>\n",
       "      <td>4. \\n\\nCommunications du Bureau \\n\\n•  M. le  ...</td>\n",
       "      <td>non-esg</td>\n",
       "      <td>gouvernance</td>\n",
       "      <td>5</td>\n",
       "    </tr>\n",
       "    <tr>\n",
       "      <th>4</th>\n",
       "      <td>4</td>\n",
       "      <td>Or, il a appris ce matin qu’un membre du Conse...</td>\n",
       "      <td>non-esg</td>\n",
       "      <td>gouvernance</td>\n",
       "      <td>4</td>\n",
       "    </tr>\n",
       "  </tbody>\n",
       "</table>\n",
       "</div>"
      ],
      "text/plain": [
       "   section_number                                               text cbl_pred  \\\n",
       "0               1  1. \\n\\nAppel :  \\n\\n93 Conseillères et Conseil...  non-esg   \n",
       "1               2  2. \\n\\nProcès-verbal de la séance du 13 novemb...  non-esg   \n",
       "2               3  3. \\n\\nApprobation de l’ordre du jour \\n\\nM. l...  non-esg   \n",
       "3               4  4. \\n\\nCommunications du Bureau \\n\\n•  M. le  ...  non-esg   \n",
       "4               4  Or, il a appris ce matin qu’un membre du Conse...  non-esg   \n",
       "\n",
       "  cbl_1024_pred  sentiment  \n",
       "0   gouvernance          5  \n",
       "1       non-esg          4  \n",
       "2       non-esg          4  \n",
       "3   gouvernance          5  \n",
       "4   gouvernance          4  "
      ]
     },
     "execution_count": 11,
     "metadata": {},
     "output_type": "execute_result"
    }
   ],
   "source": [
    "df.head()"
   ]
  },
  {
   "cell_type": "code",
   "execution_count": 12,
   "metadata": {},
   "outputs": [],
   "source": [
    "df.to_csv(\"./sentiment_res_cmarkea.csv\", index=False)"
   ]
  },
  {
   "cell_type": "code",
   "execution_count": 13,
   "metadata": {},
   "outputs": [
    {
     "data": {
      "text/plain": [
       "sentiment\n",
       "4    76\n",
       "3    75\n",
       "2    55\n",
       "5    52\n",
       "1     8\n",
       "Name: count, dtype: int64"
      ]
     },
     "execution_count": 13,
     "metadata": {},
     "output_type": "execute_result"
    }
   ],
   "source": [
    "# count number of each instance in the sentiment column\n",
    "sentiment_count = df[\"sentiment\"].value_counts()\n",
    "sentiment_count"
   ]
  },
  {
   "cell_type": "code",
   "execution_count": 15,
   "metadata": {},
   "outputs": [],
   "source": [
    "df2 = pd.read_csv(\"../../esg_classification/notebooks/pv2312_1024_predictions.csv\")"
   ]
  },
  {
   "cell_type": "code",
   "execution_count": 16,
   "metadata": {},
   "outputs": [
    {
     "data": {
      "text/html": [
       "<div>\n",
       "<style scoped>\n",
       "    .dataframe tbody tr th:only-of-type {\n",
       "        vertical-align: middle;\n",
       "    }\n",
       "\n",
       "    .dataframe tbody tr th {\n",
       "        vertical-align: top;\n",
       "    }\n",
       "\n",
       "    .dataframe thead th {\n",
       "        text-align: right;\n",
       "    }\n",
       "</style>\n",
       "<table border=\"1\" class=\"dataframe\">\n",
       "  <thead>\n",
       "    <tr style=\"text-align: right;\">\n",
       "      <th></th>\n",
       "      <th>section_number</th>\n",
       "      <th>text</th>\n",
       "      <th>cbl_pred</th>\n",
       "      <th>cbl_long_pred</th>\n",
       "    </tr>\n",
       "  </thead>\n",
       "  <tbody>\n",
       "    <tr>\n",
       "      <th>0</th>\n",
       "      <td>1</td>\n",
       "      <td>1. \\n\\nAppel :  \\n\\n93 Conseillères et Conseil...</td>\n",
       "      <td>non-esg</td>\n",
       "      <td>gouvernance</td>\n",
       "    </tr>\n",
       "    <tr>\n",
       "      <th>1</th>\n",
       "      <td>2</td>\n",
       "      <td>2. \\n\\nProcès-verbal de la séance du 13 novemb...</td>\n",
       "      <td>non-esg</td>\n",
       "      <td>non-esg</td>\n",
       "    </tr>\n",
       "    <tr>\n",
       "      <th>2</th>\n",
       "      <td>3</td>\n",
       "      <td>3. \\n\\nApprobation de l’ordre du jour \\n\\nM. l...</td>\n",
       "      <td>non-esg</td>\n",
       "      <td>non-esg</td>\n",
       "    </tr>\n",
       "    <tr>\n",
       "      <th>3</th>\n",
       "      <td>4</td>\n",
       "      <td>4. \\n\\nCommunications du Bureau \\n\\n•  M. le  ...</td>\n",
       "      <td>non-esg</td>\n",
       "      <td>gouvernance</td>\n",
       "    </tr>\n",
       "    <tr>\n",
       "      <th>4</th>\n",
       "      <td>5</td>\n",
       "      <td>5. \\n\\nCommunications municipales \\n\\nM. le  M...</td>\n",
       "      <td>environnemental</td>\n",
       "      <td>non-esg</td>\n",
       "    </tr>\n",
       "  </tbody>\n",
       "</table>\n",
       "</div>"
      ],
      "text/plain": [
       "   section_number                                               text  \\\n",
       "0               1  1. \\n\\nAppel :  \\n\\n93 Conseillères et Conseil...   \n",
       "1               2  2. \\n\\nProcès-verbal de la séance du 13 novemb...   \n",
       "2               3  3. \\n\\nApprobation de l’ordre du jour \\n\\nM. l...   \n",
       "3               4  4. \\n\\nCommunications du Bureau \\n\\n•  M. le  ...   \n",
       "4               5  5. \\n\\nCommunications municipales \\n\\nM. le  M...   \n",
       "\n",
       "          cbl_pred cbl_long_pred  \n",
       "0          non-esg   gouvernance  \n",
       "1          non-esg       non-esg  \n",
       "2          non-esg       non-esg  \n",
       "3          non-esg   gouvernance  \n",
       "4  environnemental       non-esg  "
      ]
     },
     "execution_count": 16,
     "metadata": {},
     "output_type": "execute_result"
    }
   ],
   "source": [
    "df2.head()"
   ]
  },
  {
   "cell_type": "code",
   "execution_count": 17,
   "metadata": {},
   "outputs": [],
   "source": [
    "df2[\"sentiment\"] = df2[\"text\"].apply(lambda x: int(nlp(x[:512])[0][\"label\"][0])) "
   ]
  },
  {
   "cell_type": "code",
   "execution_count": 18,
   "metadata": {},
   "outputs": [
    {
     "data": {
      "text/html": [
       "<div>\n",
       "<style scoped>\n",
       "    .dataframe tbody tr th:only-of-type {\n",
       "        vertical-align: middle;\n",
       "    }\n",
       "\n",
       "    .dataframe tbody tr th {\n",
       "        vertical-align: top;\n",
       "    }\n",
       "\n",
       "    .dataframe thead th {\n",
       "        text-align: right;\n",
       "    }\n",
       "</style>\n",
       "<table border=\"1\" class=\"dataframe\">\n",
       "  <thead>\n",
       "    <tr style=\"text-align: right;\">\n",
       "      <th></th>\n",
       "      <th>section_number</th>\n",
       "      <th>text</th>\n",
       "      <th>cbl_pred</th>\n",
       "      <th>cbl_long_pred</th>\n",
       "      <th>sentiment</th>\n",
       "    </tr>\n",
       "  </thead>\n",
       "  <tbody>\n",
       "    <tr>\n",
       "      <th>0</th>\n",
       "      <td>1</td>\n",
       "      <td>1. \\n\\nAppel :  \\n\\n93 Conseillères et Conseil...</td>\n",
       "      <td>non-esg</td>\n",
       "      <td>gouvernance</td>\n",
       "      <td>5</td>\n",
       "    </tr>\n",
       "    <tr>\n",
       "      <th>1</th>\n",
       "      <td>2</td>\n",
       "      <td>2. \\n\\nProcès-verbal de la séance du 13 novemb...</td>\n",
       "      <td>non-esg</td>\n",
       "      <td>non-esg</td>\n",
       "      <td>4</td>\n",
       "    </tr>\n",
       "    <tr>\n",
       "      <th>2</th>\n",
       "      <td>3</td>\n",
       "      <td>3. \\n\\nApprobation de l’ordre du jour \\n\\nM. l...</td>\n",
       "      <td>non-esg</td>\n",
       "      <td>non-esg</td>\n",
       "      <td>4</td>\n",
       "    </tr>\n",
       "    <tr>\n",
       "      <th>3</th>\n",
       "      <td>4</td>\n",
       "      <td>4. \\n\\nCommunications du Bureau \\n\\n•  M. le  ...</td>\n",
       "      <td>non-esg</td>\n",
       "      <td>gouvernance</td>\n",
       "      <td>5</td>\n",
       "    </tr>\n",
       "    <tr>\n",
       "      <th>4</th>\n",
       "      <td>5</td>\n",
       "      <td>5. \\n\\nCommunications municipales \\n\\nM. le  M...</td>\n",
       "      <td>environnemental</td>\n",
       "      <td>non-esg</td>\n",
       "      <td>3</td>\n",
       "    </tr>\n",
       "  </tbody>\n",
       "</table>\n",
       "</div>"
      ],
      "text/plain": [
       "   section_number                                               text  \\\n",
       "0               1  1. \\n\\nAppel :  \\n\\n93 Conseillères et Conseil...   \n",
       "1               2  2. \\n\\nProcès-verbal de la séance du 13 novemb...   \n",
       "2               3  3. \\n\\nApprobation de l’ordre du jour \\n\\nM. l...   \n",
       "3               4  4. \\n\\nCommunications du Bureau \\n\\n•  M. le  ...   \n",
       "4               5  5. \\n\\nCommunications municipales \\n\\nM. le  M...   \n",
       "\n",
       "          cbl_pred cbl_long_pred  sentiment  \n",
       "0          non-esg   gouvernance          5  \n",
       "1          non-esg       non-esg          4  \n",
       "2          non-esg       non-esg          4  \n",
       "3          non-esg   gouvernance          5  \n",
       "4  environnemental       non-esg          3  "
      ]
     },
     "execution_count": 18,
     "metadata": {},
     "output_type": "execute_result"
    }
   ],
   "source": [
    "df2.head()"
   ]
  },
  {
   "cell_type": "code",
   "execution_count": 20,
   "metadata": {},
   "outputs": [
    {
     "data": {
      "text/plain": [
       "sentiment\n",
       "4    36\n",
       "3    34\n",
       "5    30\n",
       "2    27\n",
       "1     2\n",
       "Name: count, dtype: int64"
      ]
     },
     "execution_count": 20,
     "metadata": {},
     "output_type": "execute_result"
    }
   ],
   "source": [
    "df2.to_csv(\"./sentiment_res_cmarkea.csv\", index=False)\n",
    "sentiment_count = df2[\"sentiment\"].value_counts()\n",
    "sentiment_count\n"
   ]
  },
  {
   "cell_type": "code",
   "execution_count": null,
   "metadata": {},
   "outputs": [],
   "source": []
  }
 ],
 "metadata": {
  "kernelspec": {
   "display_name": "env",
   "language": "python",
   "name": "python3"
  },
  "language_info": {
   "codemirror_mode": {
    "name": "ipython",
    "version": 3
   },
   "file_extension": ".py",
   "mimetype": "text/x-python",
   "name": "python",
   "nbconvert_exporter": "python",
   "pygments_lexer": "ipython3",
   "version": "3.11.2"
  }
 },
 "nbformat": 4,
 "nbformat_minor": 2
}
